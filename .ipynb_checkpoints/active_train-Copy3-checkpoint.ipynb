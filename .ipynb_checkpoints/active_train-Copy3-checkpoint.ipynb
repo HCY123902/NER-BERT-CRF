{
 "cells": [
  {
   "cell_type": "code",
   "execution_count": null,
   "metadata": {},
   "outputs": [
    {
     "name": "stdout",
     "output_type": "stream",
     "text": [
      "Better speed can be achieved with apex installed from https://www.github.com/nvidia/apex.\n",
      "Python version  3.7.6 (default, Jan  8 2020, 19:59:22) \n",
      "[GCC 7.3.0]\n",
      "PyTorch version  1.10.0+cu102\n",
      "Current dir: /storage/lzliao/NER_BERT_CRF\n",
      "Cuda is available? True\n",
      "Device: cuda:0\n",
      "len_label_list:  6\n",
      "label_map:  {'X': 0, '[CLS]': 1, '[SEP]': 2, 'O': 3, 'I': 4, 'B': 5}\n",
      " 15%|██████▍                                    | 12/80 [00:04<00:23,  2.92it/s]"
     ]
    }
   ],
   "source": [
    "!CUDA_VISIBLE_DEVICES=4 python3 -W ignore main_al.py"
   ]
  },
  {
   "cell_type": "code",
   "execution_count": null,
   "metadata": {},
   "outputs": [],
   "source": []
  }
 ],
 "metadata": {
  "kernelspec": {
   "display_name": "Python 3",
   "language": "python",
   "name": "python3"
  },
  "language_info": {
   "codemirror_mode": {
    "name": "ipython",
    "version": 3
   },
   "file_extension": ".py",
   "mimetype": "text/x-python",
   "name": "python",
   "nbconvert_exporter": "python",
   "pygments_lexer": "ipython3",
   "version": "3.7.6"
  }
 },
 "nbformat": 4,
 "nbformat_minor": 4
}
